{
 "cells": [
  {
   "cell_type": "markdown",
   "metadata": {},
   "source": [
    "# Text as Lists of Tokens\n"
   ]
  },
  {
   "cell_type": "code",
   "execution_count": 46,
   "metadata": {
    "execution": {
     "iopub.execute_input": "2021-10-17T22:26:13.485Z",
     "iopub.status.busy": "2021-10-17T22:26:13.478Z",
     "iopub.status.idle": "2021-10-17T22:26:13.495Z",
     "shell.execute_reply": "2021-10-17T22:26:13.501Z"
    }
   },
   "outputs": [],
   "source": [
    "import sys\n",
    "sys.path.append(\".\") # Steamship Client from Dev\n",
    "from util import on_each_file"
   ]
  },
  {
   "cell_type": "code",
   "execution_count": 59,
   "metadata": {},
   "outputs": [],
   "source": [
    "def get_name(text: str):\n",
    "  words = text.split(\" \")\n",
    "  names = [word for word in words if word[0].isupper()]\n",
    "  return names"
   ]
  },
  {
   "cell_type": "code",
   "execution_count": 60,
   "metadata": {},
   "outputs": [
    {
     "name": "stdout",
     "output_type": "stream",
     "text": [
      "001.txt\n",
      "{'Mr.', 'Matter', 'Ari', \"Candace's\", 'Candace', 'White,', 'When', 'One', 'Lives', \"Ari's\", 'Black'}\n",
      "\n",
      "002.txt\n",
      "{'Bob', 'Goodwill.', \"Lena's\", 'Lena', 'Lena,', 'Lou,', 'Ella,', 'There,', 'A', 'They', 'Bob,'}\n",
      "\n",
      "003.txt\n",
      "{'After', 'Pentagon,', 'Both', 'Sunset', 'Place,', 'Place', 'Loneese', 'Horace', 'That', 'They', 'Horace,'}\n",
      "\n"
     ]
    }
   ],
   "source": [
    "ret = on_each_file(get_name, display=True)"
   ]
  },
  {
   "cell_type": "code",
   "execution_count": null,
   "metadata": {},
   "outputs": [],
   "source": []
  },
  {
   "cell_type": "markdown",
   "metadata": {},
   "source": []
  }
 ],
 "metadata": {
  "interpreter": {
   "hash": "ec6f28be58044d3c7c725d488f454fa73fdd47c0cd66f3913642d8a436b1eee0"
  },
  "jupytext": {
   "split_at_heading": true
  },
  "kernelspec": {
   "display_name": "Python 3 (ipykernel)",
   "language": "python",
   "name": "python3"
  },
  "language_info": {
   "codemirror_mode": {
    "name": "ipython",
    "version": 3
   },
   "file_extension": ".py",
   "mimetype": "text/x-python",
   "name": "python",
   "nbconvert_exporter": "python",
   "pygments_lexer": "ipython3",
   "version": "3.8.9"
  },
  "nteract": {
   "version": "0.28.0"
  }
 },
 "nbformat": 4,
 "nbformat_minor": 4
}
